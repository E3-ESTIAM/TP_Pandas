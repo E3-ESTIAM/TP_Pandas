{
 "cells": [
  {
   "cell_type": "code",
   "execution_count": 1,
   "id": "8872f2f1-647a-4660-ae63-e89af0c8fb76",
   "metadata": {},
   "outputs": [],
   "source": [
    "import pandas as pd"
   ]
  },
  {
   "cell_type": "code",
   "execution_count": 2,
   "id": "a106c74d-9a1d-4678-bda8-e21c634d6848",
   "metadata": {},
   "outputs": [
    {
     "name": "stdout",
     "output_type": "stream",
     "text": [
      "catégorie\n",
      "A    20.0\n",
      "B    30.0\n",
      "C    50.0\n",
      "Name: valeur, dtype: float64\n"
     ]
    }
   ],
   "source": [
    "#Moyenne par catégorie\n",
    "\n",
    "df = pd.DataFrame({\n",
    "    \"catégorie\": [\"A\", \"B\", \"A\", \"B\", \"C\"],\n",
    "    \"valeur\": [10, 20, 30, 40, 50]\n",
    "})\n",
    "\n",
    "print(df.groupby(\"catégorie\")[\"valeur\"].mean())"
   ]
  },
  {
   "cell_type": "code",
   "execution_count": 3,
   "id": "0de92936-d12f-4d49-a898-623dd88abe49",
   "metadata": {},
   "outputs": [
    {
     "data": {
      "text/plain": [
       "catégorie\n",
       "A    2\n",
       "B    2\n",
       "C    1\n",
       "Name: valeur, dtype: int64"
      ]
     },
     "execution_count": 3,
     "metadata": {},
     "output_type": "execute_result"
    }
   ],
   "source": [
    "#Nombre d’éléments par groupe (count)\n",
    "\n",
    "df.groupby(\"catégorie\")[\"valeur\"].count()"
   ]
  },
  {
   "cell_type": "code",
   "execution_count": 4,
   "id": "eb172609-99b8-4792-bb7b-154d41cf4556",
   "metadata": {},
   "outputs": [
    {
     "name": "stdout",
     "output_type": "stream",
     "text": [
      "pays  année\n",
      "FR    2020     220\n",
      "      2021     150\n",
      "US    2020     200\n",
      "      2021     300\n",
      "Name: ventes, dtype: int64\n"
     ]
    }
   ],
   "source": [
    "#Regrouper par plusieurs colonnes\n",
    "\n",
    "df2 = pd.DataFrame({\n",
    "    \"pays\": [\"FR\", \"FR\", \"US\", \"US\", \"FR\"],\n",
    "    \"année\": [2020, 2021, 2020, 2021, 2020],\n",
    "    \"ventes\": [100, 150, 200, 300, 120]\n",
    "})\n",
    "\n",
    "résultat = df2.groupby([\"pays\", \"année\"])[\"ventes\"].sum()\n",
    "print(résultat)"
   ]
  },
  {
   "cell_type": "code",
   "execution_count": 5,
   "id": "40c69cbe-2a29-4aae-a8c2-be022d72615a",
   "metadata": {},
   "outputs": [
    {
     "data": {
      "text/html": [
       "<div>\n",
       "<style scoped>\n",
       "    .dataframe tbody tr th:only-of-type {\n",
       "        vertical-align: middle;\n",
       "    }\n",
       "\n",
       "    .dataframe tbody tr th {\n",
       "        vertical-align: top;\n",
       "    }\n",
       "\n",
       "    .dataframe thead tr th {\n",
       "        text-align: left;\n",
       "    }\n",
       "\n",
       "    .dataframe thead tr:last-of-type th {\n",
       "        text-align: right;\n",
       "    }\n",
       "</style>\n",
       "<table border=\"1\" class=\"dataframe\">\n",
       "  <thead>\n",
       "    <tr>\n",
       "      <th></th>\n",
       "      <th colspan=\"3\" halign=\"left\">ventes</th>\n",
       "    </tr>\n",
       "    <tr>\n",
       "      <th></th>\n",
       "      <th>sum</th>\n",
       "      <th>mean</th>\n",
       "      <th>count</th>\n",
       "    </tr>\n",
       "    <tr>\n",
       "      <th>pays</th>\n",
       "      <th></th>\n",
       "      <th></th>\n",
       "      <th></th>\n",
       "    </tr>\n",
       "  </thead>\n",
       "  <tbody>\n",
       "    <tr>\n",
       "      <th>FR</th>\n",
       "      <td>370</td>\n",
       "      <td>123.333333</td>\n",
       "      <td>3</td>\n",
       "    </tr>\n",
       "    <tr>\n",
       "      <th>US</th>\n",
       "      <td>500</td>\n",
       "      <td>250.000000</td>\n",
       "      <td>2</td>\n",
       "    </tr>\n",
       "  </tbody>\n",
       "</table>\n",
       "</div>"
      ],
      "text/plain": [
       "     ventes                  \n",
       "        sum        mean count\n",
       "pays                         \n",
       "FR      370  123.333333     3\n",
       "US      500  250.000000     2"
      ]
     },
     "execution_count": 5,
     "metadata": {},
     "output_type": "execute_result"
    }
   ],
   "source": [
    "#Agrégations multiples avec .agg()\n",
    "\n",
    "df2.groupby(\"pays\").agg({\n",
    "    \"ventes\": [\"sum\", \"mean\", \"count\"]\n",
    "})"
   ]
  },
  {
   "cell_type": "code",
   "execution_count": 9,
   "id": "fc8d08a0-de03-4b66-9d4e-5bc22280283f",
   "metadata": {},
   "outputs": [
    {
     "name": "stdout",
     "output_type": "stream",
     "text": [
      "      ventes\n",
      "pays        \n",
      "US       500\n",
      "FR       370\n"
     ]
    }
   ],
   "source": [
    "#Agrégations multiples avec .agg()\n",
    "\n",
    "résultat = df2.groupby(\"pays\")[[\"ventes\"]].sum().sort_values(by = [\"ventes\"], ascending = False)\n",
    "print(résultat)"
   ]
  },
  {
   "cell_type": "code",
   "execution_count": 10,
   "id": "f5dbbfa2-7d84-487b-8213-953d200a9c61",
   "metadata": {},
   "outputs": [
    {
     "name": "stdout",
     "output_type": "stream",
     "text": [
      "année   2020   2021\n",
      "pays               \n",
      "FR     110.0  150.0\n",
      "US     200.0  300.0\n"
     ]
    }
   ],
   "source": [
    "#Moyenne de ventes par pays et année - pivot_table() — Tableau croisé dynamique\n",
    "\n",
    "pivot = pd.pivot_table(df2, index=\"pays\", columns=\"année\", values=\"ventes\", aggfunc=\"mean\")\n",
    "print(pivot)"
   ]
  },
  {
   "cell_type": "code",
   "execution_count": 11,
   "id": "8564f91e-5786-41ac-93e1-87281987b9fb",
   "metadata": {},
   "outputs": [
    {
     "name": "stdout",
     "output_type": "stream",
     "text": [
      "       sum        mean       \n",
      "année 2020 2021   2020   2021\n",
      "pays                         \n",
      "FR     220  150  110.0  150.0\n",
      "US     200  300  200.0  300.0\n"
     ]
    }
   ],
   "source": [
    "pivot = pd.pivot_table(df2, index=\"pays\", columns=\"année\", values=\"ventes\", aggfunc=[\"sum\", \"mean\"])\n",
    "print(pivot)"
   ]
  },
  {
   "cell_type": "code",
   "execution_count": null,
   "id": "0a65017a-6e30-4a25-bf1a-88e77a31a02a",
   "metadata": {},
   "outputs": [],
   "source": []
  }
 ],
 "metadata": {
  "kernelspec": {
   "display_name": "Python 3 (ipykernel)",
   "language": "python",
   "name": "python3"
  },
  "language_info": {
   "codemirror_mode": {
    "name": "ipython",
    "version": 3
   },
   "file_extension": ".py",
   "mimetype": "text/x-python",
   "name": "python",
   "nbconvert_exporter": "python",
   "pygments_lexer": "ipython3",
   "version": "3.11.13"
  }
 },
 "nbformat": 4,
 "nbformat_minor": 5
}
