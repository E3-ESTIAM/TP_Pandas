{
 "cells": [
  {
   "cell_type": "code",
   "execution_count": 16,
   "id": "a3c949a6-bb27-4337-8778-a09ac460a4e0",
   "metadata": {},
   "outputs": [],
   "source": [
    "import numpy as np "
   ]
  },
  {
   "cell_type": "code",
   "execution_count": 17,
   "id": "3716ea8f-8ed6-4b4a-abed-00b243544c1f",
   "metadata": {},
   "outputs": [],
   "source": [
    "january = np.array([-2,  5, -5,  6, -2,  0,  6,  2,  8,  0,  6, -1,  3,  3,  7,  0, -5,\n",
    "        7,  4,  7,  8, -1,  5, -2,  3, -3, -2,  7,  8,  4,  2])"
   ]
  },
  {
   "cell_type": "code",
   "execution_count": 21,
   "id": "12362692-376a-453f-a83a-0dda50f22dc5",
   "metadata": {},
   "outputs": [
    {
     "data": {
      "text/plain": [
       "array([5, 6, 6, 2, 8, 6, 3, 3, 7, 7, 4, 7, 8, 5, 3, 7, 8, 4, 2])"
      ]
     },
     "execution_count": 21,
     "metadata": {},
     "output_type": "execute_result"
    }
   ],
   "source": [
    "# Donnez toutes les températures qui sont supérieures à 0\n",
    "\n",
    "mask = january > 0\n",
    "#january > 0\n",
    "january[mask] #Postive temperatures"
   ]
  },
  {
   "cell_type": "code",
   "execution_count": 39,
   "id": "0861d11d-2aa4-4447-a0f5-89c80f1cc848",
   "metadata": {},
   "outputs": [],
   "source": [
    "# Comparer les températures supérieures et inférieures à 0\n",
    "\n",
    "temp_positive = np.sum(january > 0) # Gives the number of postive temp TRUE with sum equivalent to 1 and FALSE 0\n",
    "\n",
    "temp_negative = np.sum(january < 0)\n"
   ]
  },
  {
   "cell_type": "code",
   "execution_count": 40,
   "id": "1ebc3611-49aa-4848-bdb6-350dd9568f5e",
   "metadata": {},
   "outputs": [
    {
     "name": "stdout",
     "output_type": "stream",
     "text": [
      "Il y a eu **10 jours de plus** avec une température positive que négative.\n"
     ]
    },
    {
     "data": {
      "text/plain": [
       "np.int64(19)"
      ]
     },
     "execution_count": 40,
     "metadata": {},
     "output_type": "execute_result"
    }
   ],
   "source": [
    "# Comparer les températures supérieures et inférieures à 0\n",
    "\n",
    "if temp_positive > temp_negative:\n",
    "    print(f\"Il y a eu **{temp_positive - temp_negative} jours de plus** avec une température positive que négative.\")\n",
    "elif temp_negative > num_positive:\n",
    "    print(f\"Il y a eu **{temp_negative - temp_positive} jours de plus** avec une température négative que positive.\")\n",
    "else:\n",
    "    print(\"Le nombre de jours avec température positive est **égal** au nombre de jours avec température négative.\")\n",
    "\n",
    "temp"
   ]
  },
  {
   "cell_type": "code",
   "execution_count": 52,
   "id": "547f8811-fe25-42fd-98da-caf22bd48e01",
   "metadata": {},
   "outputs": [
    {
     "name": "stdout",
     "output_type": "stream",
     "text": [
      "Pourcentage de températures positives : 61.29%\n"
     ]
    }
   ],
   "source": [
    "# Calculer le pourcentage des températures positives\n",
    "\n",
    "percentage_positive = (temp_positive / len(january)) * 100\n",
    "print(f\"Pourcentage de températures positives : {percentage_positive:.2f}%\") \n",
    "\n"
   ]
  },
  {
   "cell_type": "code",
   "execution_count": 55,
   "id": "90581828-aed6-468d-9bb6-1c857e8be89e",
   "metadata": {},
   "outputs": [
    {
     "name": "stdout",
     "output_type": "stream",
     "text": [
      "Jours avec températures positives: [ 1  2  3  4  5  7  8  9 11 12 13 14 15 17 18 19 20 21 22 23 24 25 26 27\n",
      " 28 29 30 31]\n"
     ]
    }
   ],
   "source": [
    "# Créez un tableau days pour les jours du mois et donnez les jours pour lesquels la température était supérieure à 0\n",
    "\n",
    "days = np.arange(1, len(january) + 1)\n",
    "positive_days = days[january > 0]\n",
    "print(\"Jours avec températures positives:\", positive_days)\n"
   ]
  },
  {
   "cell_type": "code",
   "execution_count": 56,
   "id": "f09a1dd6-f5ad-4af4-ade6-82c3b1e28a9b",
   "metadata": {},
   "outputs": [
    {
     "data": {
      "text/plain": [
       "array([ 6, 19,  3,  3,  7, 19,  7,  4,  7,  8, 19,  5, 19,  3, 19, 19,  7,\n",
       "        8,  4,  2])"
      ]
     },
     "execution_count": 56,
     "metadata": {},
     "output_type": "execute_result"
    }
   ],
   "source": [
    "# Donnez toutes les températures supérieures à 0 à partir du dixième jour du mois\n",
    "\n",
    "january[9:][january[9:] > 0]from_day_10 = january[9:]  # Index 9 = jour 10\n",
    "positive_from_day_10 = from_day_10[from_day_10 > 0]\n",
    "print(\"Températures positives à partir du jour 10:\", positive_from_day_10)"
   ]
  },
  {
   "cell_type": "code",
   "execution_count": 57,
   "id": "44500d54-7b64-4ce0-a77b-e7133390f05f",
   "metadata": {},
   "outputs": [
    {
     "name": "stdout",
     "output_type": "stream",
     "text": [
      "Tableau mis à jour avec les températures négatives remplacées : [19.  5. 19.  6. 19.  0.  6.  2.  8.  0.  6. 19.  3.  3.  7.  0. 19.  7.\n",
      "  4.  7.  8. 19.  5. 19.  3. 19. 19.  7.  8.  4.  2.]\n"
     ]
    }
   ],
   "source": [
    "# Remplacez maintenant les températures négatives par la moyenne des températures positives\n",
    "\n",
    "moyenne_positives = np.mean(temp_positive)\n",
    "january_remplace = np.where(january < 0, moyenne_positives, january)\n",
    " \n",
    "print(\"Tableau mis à jour avec les températures négatives remplacées :\", january_remplace)"
   ]
  },
  {
   "cell_type": "code",
   "execution_count": null,
   "id": "d6c7a073-5868-470d-978a-5126ee1809e3",
   "metadata": {},
   "outputs": [],
   "source": []
  }
 ],
 "metadata": {
  "kernelspec": {
   "display_name": "Python 3 (ipykernel)",
   "language": "python",
   "name": "python3"
  },
  "language_info": {
   "codemirror_mode": {
    "name": "ipython",
    "version": 3
   },
   "file_extension": ".py",
   "mimetype": "text/x-python",
   "name": "python",
   "nbconvert_exporter": "python",
   "pygments_lexer": "ipython3",
   "version": "3.11.13"
  }
 },
 "nbformat": 4,
 "nbformat_minor": 5
}
